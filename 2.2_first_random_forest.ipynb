{
 "cells": [
  {
   "cell_type": "code",
   "execution_count": 11,
   "outputs": [],
   "source": [
    "import pandas as pd\n",
    "import matplotlib as plt\n",
    "import seaborn as sns\n",
    "import numpy as np"
   ],
   "metadata": {
    "collapsed": false,
    "pycharm": {
     "name": "#%%\n"
    }
   }
  },
  {
   "cell_type": "code",
   "execution_count": 12,
   "outputs": [],
   "source": [
    "def confusion_heat_map(confusion_matrix):\n",
    "    group_names = ['True Neg','False Pos','False Neg','True Pos']\n",
    "    group_counts = [\"{0:0.0f}\".format(value) for value in confusion_matrix.flatten()]\n",
    "    group_percentages = [\"{0:.2%}\".format(value) for value in confusion_matrix.flatten()/np.sum(confusion_matrix)]\n",
    "    labels = [f\"{v1}\\n{v2}\\n{v3}\" for v1, v2, v3 in zip(group_names,group_counts,group_percentages) ]\n",
    "    labels = np.asarray(labels).reshape(2,2)\n",
    "    sns.heatmap(confusion_matrix, annot=labels, fmt='', cmap='Blues')"
   ],
   "metadata": {
    "collapsed": false,
    "pycharm": {
     "name": "#%%\n"
    }
   }
  },
  {
   "cell_type": "code",
   "execution_count": 13,
   "metadata": {
    "pycharm": {
     "name": "#%%\n"
    }
   },
   "outputs": [
    {
     "name": "stdout",
     "output_type": "stream",
     "text": [
      "<class 'pandas.core.frame.DataFrame'>\n",
      "RangeIndex: 8693 entries, 0 to 8692\n",
      "Data columns (total 19 columns):\n",
      " #   Column               Non-Null Count  Dtype  \n",
      "---  ------               --------------  -----  \n",
      " 0   PassengerId          8693 non-null   object \n",
      " 1   HomePlanet           8492 non-null   object \n",
      " 2   CryoSleep            8476 non-null   object \n",
      " 3   Cabin                8494 non-null   object \n",
      " 4   Destination          8511 non-null   object \n",
      " 5   Age                  8514 non-null   float64\n",
      " 6   VIP                  8490 non-null   object \n",
      " 7   spend_room_service   8512 non-null   float64\n",
      " 8   spend_food_court     8510 non-null   float64\n",
      " 9   spend_shopping_mall  8485 non-null   float64\n",
      " 10  spend_spa            8510 non-null   float64\n",
      " 11  spend_vr_deck        8505 non-null   float64\n",
      " 12  Name                 8493 non-null   object \n",
      " 13  Transported          8693 non-null   bool   \n",
      " 14  group_id             8693 non-null   object \n",
      " 15  group_num            8693 non-null   object \n",
      " 16  cabin_deck           8494 non-null   object \n",
      " 17  cabin_num            8494 non-null   object \n",
      " 18  cabin_side           8494 non-null   object \n",
      "dtypes: bool(1), float64(6), object(12)\n",
      "memory usage: 1.2+ MB\n"
     ]
    }
   ],
   "source": [
    "%run \"./load_clean.ipynb\""
   ]
  },
  {
   "cell_type": "code",
   "execution_count": 14,
   "outputs": [],
   "source": [
    "df: pd.DataFrame = data_df;"
   ],
   "metadata": {
    "collapsed": false,
    "pycharm": {
     "name": "#%%\n"
    }
   }
  },
  {
   "cell_type": "code",
   "execution_count": 15,
   "metadata": {
    "pycharm": {
     "name": "#%%\n"
    }
   },
   "outputs": [],
   "source": [
    "from sklearn.ensemble import RandomForestClassifier\n",
    "from sklearn.model_selection import train_test_split\n",
    "from sklearn.metrics import confusion_matrix, classification_report\n"
   ]
  },
  {
   "cell_type": "markdown",
   "metadata": {
    "pycharm": {
     "name": "#%% md\n"
    }
   },
   "source": [
    "# Best Models"
   ]
  },
  {
   "cell_type": "code",
   "execution_count": 16,
   "outputs": [
    {
     "data": {
      "text/plain": "Index(['PassengerId', 'HomePlanet', 'CryoSleep', 'Cabin', 'Destination', 'Age',\n       'VIP', 'spend_room_service', 'spend_food_court', 'spend_shopping_mall',\n       'spend_spa', 'spend_vr_deck', 'Name', 'Transported', 'group_id',\n       'group_num', 'cabin_deck', 'cabin_num', 'cabin_side', 'spend_total',\n       'spend_high_total', 'spend_low_total'],\n      dtype='object')"
     },
     "execution_count": 16,
     "metadata": {},
     "output_type": "execute_result"
    }
   ],
   "source": [
    "df.columns"
   ],
   "metadata": {
    "collapsed": false,
    "pycharm": {
     "name": "#%%\n"
    }
   }
  },
  {
   "cell_type": "code",
   "execution_count": 17,
   "outputs": [
    {
     "data": {
      "text/plain": "PassengerId              0\nHomePlanet             201\nCryoSleep              217\nCabin                  199\nDestination            182\nAge                    179\nVIP                    203\nspend_room_service       0\nspend_food_court         0\nspend_shopping_mall      0\nspend_spa                0\nspend_vr_deck            0\nName                   200\nTransported              0\ngroup_id                 0\ngroup_num                0\ncabin_deck             199\ncabin_num              199\ncabin_side             199\nspend_total              0\nspend_high_total         0\nspend_low_total          0\ndtype: int64"
     },
     "execution_count": 17,
     "metadata": {},
     "output_type": "execute_result"
    }
   ],
   "source": [
    "df.isna().sum()"
   ],
   "metadata": {
    "collapsed": false,
    "pycharm": {
     "name": "#%%\n"
    }
   }
  },
  {
   "cell_type": "code",
   "execution_count": 18,
   "metadata": {
    "pycharm": {
     "name": "#%%\n"
    }
   },
   "outputs": [
    {
     "ename": "NameError",
     "evalue": "name 'read_clean_titanic' is not defined",
     "output_type": "error",
     "traceback": [
      "\u001B[0;31m---------------------------------------------------------------------------\u001B[0m",
      "\u001B[0;31mNameError\u001B[0m                                 Traceback (most recent call last)",
      "\u001B[0;32m/var/folders/rg/mb0r29s96sgc2j4j60fjp4jw0000gn/T/ipykernel_2115/1626380340.py\u001B[0m in \u001B[0;36m<module>\u001B[0;34m\u001B[0m\n\u001B[0;32m----> 1\u001B[0;31m \u001B[0mtrain_df\u001B[0m\u001B[0;34m:\u001B[0m\u001B[0mpd\u001B[0m\u001B[0;34m.\u001B[0m\u001B[0mDataFrame\u001B[0m \u001B[0;34m=\u001B[0m \u001B[0mread_clean_titanic\u001B[0m\u001B[0;34m(\u001B[0m\u001B[0;34m'./data/train.csv'\u001B[0m\u001B[0;34m)\u001B[0m\u001B[0;34m\u001B[0m\u001B[0;34m\u001B[0m\u001B[0m\n\u001B[0m\u001B[1;32m      2\u001B[0m \u001B[0mtest_df\u001B[0m\u001B[0;34m:\u001B[0m\u001B[0mpd\u001B[0m\u001B[0;34m.\u001B[0m\u001B[0mDataFrame\u001B[0m \u001B[0;34m=\u001B[0m \u001B[0mread_clean_titanic\u001B[0m\u001B[0;34m(\u001B[0m\u001B[0;34m'./data/test.csv'\u001B[0m\u001B[0;34m)\u001B[0m\u001B[0;34m\u001B[0m\u001B[0;34m\u001B[0m\u001B[0m\n\u001B[1;32m      3\u001B[0m \u001B[0;34m\u001B[0m\u001B[0m\n\u001B[1;32m      4\u001B[0m \u001B[0;31m# #\u001B[0m\u001B[0;34m\u001B[0m\u001B[0;34m\u001B[0m\u001B[0m\n\u001B[1;32m      5\u001B[0m \u001B[0;31m# # TRAIN TEST SPLIT PREP\u001B[0m\u001B[0;34m\u001B[0m\u001B[0;34m\u001B[0m\u001B[0m\n",
      "\u001B[0;31mNameError\u001B[0m: name 'read_clean_titanic' is not defined"
     ]
    }
   ],
   "source": [
    "train_df:pd.DataFrame = read_clean_titanic('./data/train.csv')\n",
    "test_df:pd.DataFrame = read_clean_titanic('./data/test.csv')\n",
    "\n",
    "# #\n",
    "# # TRAIN TEST SPLIT PREP\n",
    "# #\n",
    "feature_cols = [\n",
    "   'is_female', \n",
    "   'Pclass', \n",
    "   'is_age_mister', \n",
    "   'is_age_miss', \n",
    "   'is_age_misses',\n",
    "   'is_age_master', \n",
    "   'Embarked_C', 'Embarked_Q', 'Embarked_S', \n",
    "   'is_parent', \n",
    "   'is_child', \n",
    "   ]\n",
    "X = train_df[feature_cols]\n",
    "y = train_df['Transported']\n",
    "X_train, X_test, y_train, y_test = train_test_split(X, y, test_size=0.3, random_state=0)\n",
    "\n",
    "# #\n",
    "# # MODELING\n",
    "# #\n",
    "model = RandomForestClassifier(n_estimators=500, \n",
    "                               max_depth=5, \n",
    "                               random_state=1,\n",
    "                              #  bootstrap=False,\n",
    "                               )\n",
    "model.fit(X, y)\n",
    "y_pred = model.predict(X_test)\n",
    "\n",
    "# #\n",
    "# # METRIC REPORTING\n",
    "# #\n",
    "cnf_matrix = confusion_matrix(y_test, y_pred)\n",
    "print(\"Recall:\", classification_report(y_test, y_pred))\n",
    "plt.figure(figsize=(10,5),dpi=100)\n",
    "confusion_heat_map(cnf_matrix)\n",
    "print(model.feature_importances_)"
   ]
  },
  {
   "cell_type": "code",
   "execution_count": null,
   "metadata": {
    "pycharm": {
     "name": "#%%\n"
    }
   },
   "outputs": [],
   "source": [
    "train_df = read_clean_titanic('./data/train.csv')\n",
    "test_df = read_clean_titanic('./data/test.csv')\n",
    "\n",
    "# #\n",
    "# # TRAIN TEST SPLIT PREP\n",
    "# #\n",
    "feature_cols = [\n",
    "   'Pclass', 'is_female', \n",
    "   'Embarked_C', 'Embarked_Q', 'Embarked_S', \n",
    "   'is_family', 'is_parent', 'is_child', \n",
    "   'is_age_master', 'is_age_mister', 'is_age_miss', 'is_age_misses'\n",
    "   ]\n",
    "\n",
    "X = train_df[feature_cols]\n",
    "y = train_df['Survived']\n",
    "X_train, X_test, y_train, y_test = train_test_split(X, y, test_size=0.3, random_state=0)\n",
    "\n",
    "# #\n",
    "# # MODELING\n",
    "# #\n",
    "model = RandomForestClassifier(n_estimators=100, max_depth=5, random_state=1)\n",
    "model.fit(X, y)\n",
    "y_pred = model.predict(X_test)\n",
    "\n",
    "# #\n",
    "# # METRIC REPORTING\n",
    "# #\n",
    "cnf_matrix = confusion_matrix(y_test, y_pred)\n",
    "print(classification_report(y_test, y_pred))\n",
    "plt.figure(figsize=(10,5),dpi=100)\n",
    "confusion_heat_map(cnf_matrix)"
   ]
  },
  {
   "cell_type": "markdown",
   "metadata": {
    "pycharm": {
     "name": "#%% md\n"
    }
   },
   "source": [
    "# Model Testing"
   ]
  },
  {
   "cell_type": "code",
   "execution_count": null,
   "metadata": {
    "pycharm": {
     "name": "#%%\n"
    }
   },
   "outputs": [],
   "source": [
    "train_df = read_clean_titanic('./data/train.csv')\n",
    "test_df = read_clean_titanic('./data/test.csv')\n",
    "\n",
    "# #\n",
    "# # TRAIN TEST SPLIT PREP\n",
    "# #\n",
    "feature_cols = [\n",
    "   'Pclass', 'is_female', \n",
    "   'Embarked_C', 'Embarked_Q', 'Embarked_S', \n",
    "   'is_family', 'is_parent', 'is_child', \n",
    "   'is_age_master', 'is_age_mister', 'is_age_miss', 'is_age_misses'\n",
    "   ]\n",
    "\n",
    "# feature_cols = [\n",
    "#    'Pclass', \n",
    "#    'is_female', \n",
    "#    'is_parent', \n",
    "#    'is_child', \n",
    "#    'age_cat_master', 'age_cat_mister',\n",
    "#    'age_cat_miss', 'age_cat_misses',\n",
    "#    ]\n",
    "X = train_df[feature_cols]\n",
    "y = train_df['Survived']\n",
    "X_train, X_test, y_train, y_test = train_test_split(X, y, test_size=0.3, random_state=0)\n",
    "\n",
    "# #\n",
    "# # MODELING\n",
    "# #\n",
    "model = RandomForestClassifier(n_estimators=100, \n",
    "                               max_depth=5, \n",
    "                               random_state=1,\n",
    "                               bootstrap=False\n",
    "                               )\n",
    "model.fit(X, y)\n",
    "y_pred = model.predict(X_test)\n",
    "\n",
    "# #\n",
    "# # METRIC REPORTING\n",
    "# #\n",
    "cnf_matrix = confusion_matrix(y_test, y_pred)\n",
    "# print(cnf_matrix)\n",
    "print(\"Recall:\", classification_report(y_test, y_pred))\n",
    "plt.figure(figsize=(10,5),dpi=100)\n",
    "confusion_heat_map(cnf_matrix)"
   ]
  },
  {
   "cell_type": "code",
   "execution_count": null,
   "metadata": {
    "pycharm": {
     "name": "#%%\n"
    }
   },
   "outputs": [],
   "source": [
    "train_df = read_clean_titanic('./data/train.csv')\n",
    "test_df = read_clean_titanic('./data/test.csv')\n",
    "\n",
    "# #\n",
    "# # TRAIN TEST SPLIT PREP\n",
    "# #\n",
    "feature_cols = [\n",
    "   'Pclass', 'is_female', \n",
    "   'Embarked_C', 'Embarked_Q', 'Embarked_S', \n",
    "   'is_family', 'is_parent', 'is_child', \n",
    "   'is_age_master', 'is_age_mister', 'is_age_miss', 'is_age_misses'\n",
    "   ]\n",
    "\n",
    "# feature_cols = [\n",
    "#    'Pclass', \n",
    "#    'is_female', \n",
    "#    'is_parent', \n",
    "#    'is_child', \n",
    "#    'age_cat_master', 'age_cat_mister',\n",
    "#    'age_cat_miss', 'age_cat_misses',\n",
    "#    ]\n",
    "X = train_df[feature_cols]\n",
    "y = train_df['Survived']\n",
    "X_train, X_test, y_train, y_test = train_test_split(X, y, test_size=0.3, random_state=0)\n",
    "\n",
    "# #\n",
    "# # MODELING\n",
    "# #\n",
    "model = RandomForestClassifier(n_estimators=100, \n",
    "                               max_depth=5, \n",
    "                               random_state=1,\n",
    "                               bootstrap=False\n",
    "                               )\n",
    "model.fit(X, y)\n",
    "y_pred = model.predict(X_test)\n",
    "\n",
    "# #\n",
    "# # METRIC REPORTING\n",
    "# #\n",
    "cnf_matrix = confusion_matrix(y_test, y_pred)\n",
    "# print(cnf_matrix)\n",
    "print(\"Recall:\", classification_report(y_test, y_pred))\n",
    "plt.figure(figsize=(10,5),dpi=100)\n",
    "confusion_heat_map(cnf_matrix)"
   ]
  },
  {
   "cell_type": "code",
   "execution_count": null,
   "metadata": {
    "pycharm": {
     "name": "#%%\n"
    }
   },
   "outputs": [],
   "source": [
    "no_dummy_df = read_clean_titanic('./data/train.csv', use_dummies=False)\n",
    "display(survival_in_feature_group(no_dummy_df, 'Embarked'))\n",
    "display(survival_in_feature_group(no_dummy_df, 'Sex'))"
   ]
  },
  {
   "cell_type": "markdown",
   "metadata": {
    "pycharm": {
     "name": "#%% md\n"
    }
   },
   "source": [
    "## Good but more False Negative"
   ]
  },
  {
   "cell_type": "code",
   "execution_count": null,
   "metadata": {
    "pycharm": {
     "name": "#%%\n"
    }
   },
   "outputs": [],
   "source": [
    "train_df = read_clean_titanic('./data/train.csv')\n",
    "test_df = read_clean_titanic('./data/test.csv')\n",
    "\n",
    "# #\n",
    "# # TRAIN TEST SPLIT PREP\n",
    "# #\n",
    "feature_cols = [\n",
    "   'Pclass', \n",
    "   'is_female', \n",
    "   'is_age_miss', 'is_age_misses',\n",
    "   'is_age_master', 'is_age_mister', \n",
    "   'Embarked_C', 'Embarked_Q', 'Embarked_S', \n",
    "   # 'is_family', \n",
    "   'is_parent', \n",
    "   'is_child', \n",
    "   ]\n",
    "X = train_df[feature_cols]\n",
    "y = train_df['Survived']\n",
    "X_train, X_test, y_train, y_test = train_test_split(X, y, test_size=0.3, random_state=0)\n",
    "\n",
    "# #\n",
    "# # MODELING\n",
    "# #\n",
    "model = RandomForestClassifier(n_estimators=500, \n",
    "                               max_depth=7, \n",
    "                               random_state=1,\n",
    "                               bootstrap=False,\n",
    "                               criterion=\"entropy\"\n",
    "                               )\n",
    "model.fit(X, y)\n",
    "y_pred = model.predict(X_test)\n",
    "\n",
    "# #\n",
    "# # METRIC REPORTING\n",
    "# #\n",
    "cnf_matrix = confusion_matrix(y_test, y_pred)\n",
    "# print(cnf_matrix)\n",
    "print(\"Recall:\", classification_report(y_test, y_pred))\n",
    "plt.figure(figsize=(10,5),dpi=100)\n",
    "confusion_heat_map(cnf_matrix)"
   ]
  },
  {
   "cell_type": "code",
   "execution_count": null,
   "metadata": {
    "pycharm": {
     "name": "#%%\n"
    }
   },
   "outputs": [],
   "source": [
    "train_df = read_clean_titanic('./data/train.csv')\n",
    "test_df = read_clean_titanic('./data/test.csv')\n",
    "\n",
    "# #\n",
    "# # TRAIN TEST SPLIT PREP\n",
    "# #\n",
    "feature_cols = [\n",
    "   'is_female', \n",
    "   'Pclass', \n",
    "   'is_age_mister', \n",
    "   'is_age_miss', \n",
    "   'is_age_misses',\n",
    "   'is_age_master', \n",
    "   'Embarked_C', 'Embarked_Q', 'Embarked_S', \n",
    "   'is_parent', \n",
    "   'is_child', \n",
    "   ]\n",
    "X = train_df[feature_cols]\n",
    "y = train_df['Survived']\n",
    "X_train, X_test, y_train, y_test = train_test_split(X, y, test_size=0.3, random_state=0)\n",
    "\n",
    "# #\n",
    "# # MODELING\n",
    "# #\n",
    "model = RandomForestClassifier(n_estimators=500, \n",
    "                               max_depth=5, \n",
    "                               random_state=1,\n",
    "                               bootstrap=False,\n",
    "                               min_samples_split=0.01\n",
    "                               )\n",
    "model.fit(X, y)\n",
    "y_pred = model.predict(X_test)\n",
    "\n",
    "# #\n",
    "# # METRIC REPORTING\n",
    "# #\n",
    "cnf_matrix = confusion_matrix(y_test, y_pred)\n",
    "print(\"Recall:\", classification_report(y_test, y_pred))\n",
    "plt.figure(figsize=(10,5),dpi=100)\n",
    "confusion_heat_map(cnf_matrix)\n",
    "print(model.feature_importances_)"
   ]
  },
  {
   "cell_type": "code",
   "execution_count": null,
   "metadata": {
    "pycharm": {
     "name": "#%%\n"
    }
   },
   "outputs": [],
   "source": []
  }
 ],
 "metadata": {
  "interpreter": {
   "hash": "38cca0c38332a56087b24af0bc80247f4fced29cb4f7f437d91dc159adec9c4e"
  },
  "kernelspec": {
   "display_name": "Python 3.9.7 ('base')",
   "language": "python",
   "name": "python3"
  },
  "language_info": {
   "codemirror_mode": {
    "name": "ipython",
    "version": 3
   },
   "file_extension": ".py",
   "mimetype": "text/x-python",
   "name": "python",
   "nbconvert_exporter": "python",
   "pygments_lexer": "ipython3",
   "version": "3.9.7"
  },
  "orig_nbformat": 4
 },
 "nbformat": 4,
 "nbformat_minor": 2
}